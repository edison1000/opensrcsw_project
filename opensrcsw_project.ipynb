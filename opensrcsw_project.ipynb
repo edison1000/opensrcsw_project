{
  "nbformat": 4,
  "nbformat_minor": 0,
  "metadata": {
    "colab": {
      "name": "opensrcsw_project.ipynb",
      "provenance": [],
      "collapsed_sections": [],
      "authorship_tag": "ABX9TyNSCNHC/LYhP0SIfrrxh2oI",
      "include_colab_link": true
    },
    "kernelspec": {
      "name": "python3",
      "display_name": "Python 3"
    }
  },
  "cells": [
    {
      "cell_type": "markdown",
      "metadata": {
        "id": "view-in-github",
        "colab_type": "text"
      },
      "source": [
        "<a href=\"https://colab.research.google.com/github/edison1000/opensrcsw_project/blob/master/opensrcsw_project.ipynb\" target=\"_parent\"><img src=\"https://colab.research.google.com/assets/colab-badge.svg\" alt=\"Open In Colab\"/></a>"
      ]
    },
    {
      "cell_type": "code",
      "metadata": {
        "id": "CUkUrxi0KI9t",
        "colab_type": "code",
        "outputId": "fc064d46-b1f3-4b63-feff-1302e24d0966",
        "colab": {
          "base_uri": "https://localhost:8080/",
          "height": 127
        }
      },
      "source": [
        "from google.colab import drive\n",
        "drive.mount('/gdrive',force_remount=True)"
      ],
      "execution_count": 0,
      "outputs": [
        {
          "output_type": "stream",
          "text": [
            "Go to this URL in a browser: https://accounts.google.com/o/oauth2/auth?client_id=947318989803-6bn6qk8qdgf4n4g3pfee6491hc0brc4i.apps.googleusercontent.com&redirect_uri=urn%3aietf%3awg%3aoauth%3a2.0%3aoob&response_type=code&scope=email%20https%3a%2f%2fwww.googleapis.com%2fauth%2fdocs.test%20https%3a%2f%2fwww.googleapis.com%2fauth%2fdrive%20https%3a%2f%2fwww.googleapis.com%2fauth%2fdrive.photos.readonly%20https%3a%2f%2fwww.googleapis.com%2fauth%2fpeopleapi.readonly\n",
            "\n",
            "Enter your authorization code:\n",
            "··········\n",
            "Mounted at /gdrive\n"
          ],
          "name": "stdout"
        }
      ]
    },
    {
      "cell_type": "code",
      "metadata": {
        "id": "hD_bCpwMGjDc",
        "colab_type": "code",
        "colab": {}
      },
      "source": [
        ""
      ],
      "execution_count": 0,
      "outputs": []
    },
    {
      "cell_type": "code",
      "metadata": {
        "id": "PVoDKaDIUPXQ",
        "colab_type": "code",
        "outputId": "ad10fd99-57c3-46c2-dadf-0f5b57459e2c",
        "colab": {
          "base_uri": "https://localhost:8080/",
          "height": 35
        }
      },
      "source": [
        "pip install BeautifulSoup4"
      ],
      "execution_count": 0,
      "outputs": [
        {
          "output_type": "stream",
          "text": [
            "Requirement already satisfied: BeautifulSoup4 in /usr/local/lib/python3.6/dist-packages (4.6.3)\n"
          ],
          "name": "stdout"
        }
      ]
    },
    {
      "cell_type": "code",
      "metadata": {
        "id": "hi69emfocglU",
        "colab_type": "code",
        "colab": {}
      },
      "source": [
        "from bs4 import BeautifulSoup\n",
        "import urllib.request\n",
        "import json"
      ],
      "execution_count": 0,
      "outputs": []
    },
    {
      "cell_type": "code",
      "metadata": {
        "id": "Kqwr2RK4cnul",
        "colab_type": "code",
        "colab": {}
      },
      "source": [
        "html =  urllib.request.urlopen('https://movie.naver.com/movie/sdb/rank/rmovie.nhn')"
      ],
      "execution_count": 0,
      "outputs": []
    },
    {
      "cell_type": "code",
      "metadata": {
        "id": "Mr2lDQlMdWxn",
        "colab_type": "code",
        "colab": {}
      },
      "source": [
        "soup=BeautifulSoup(html,'lxml')"
      ],
      "execution_count": 0,
      "outputs": []
    },
    {
      "cell_type": "code",
      "metadata": {
        "id": "b6YUPprhdyJY",
        "colab_type": "code",
        "colab": {}
      },
      "source": [
        "titles=soup.find_all('td','title')"
      ],
      "execution_count": 0,
      "outputs": []
    },
    {
      "cell_type": "code",
      "metadata": {
        "id": "Yi_3qZcdM90D",
        "colab_type": "code",
        "colab": {}
      },
      "source": [
        "client_id = \"dO6a_SbIdg7rsQF9KyJg\"\n",
        "client_secret = \"t2c5jHUggy\"\n",
        "url = \"https://openapi.naver.com/v1/search/movie.json\""
      ],
      "execution_count": 0,
      "outputs": []
    },
    {
      "cell_type": "code",
      "metadata": {
        "id": "7j1q43jaJtL9",
        "colab_type": "code",
        "outputId": "aac55b34-0d88-4654-af7b-3246549904c4",
        "colab": {
          "base_uri": "https://localhost:8080/",
          "height": 125
        }
      },
      "source": [
        "a=1\n",
        "while 1:\n",
        "  print(\"[김윤수의 영화프로그램]\")\n",
        "  print(\" 1. 영화  순위 확인하기\")\n",
        "  print(\" 2. 영화 정보 검색하기\")\n",
        "  print(\" 3. 프로그램 종료\")\n",
        "  menu=int(input(\"메뉴를 선택하세요: \"))\n",
        "  if menu==1:\n",
        "    rank=1\n",
        "    print(\"오늘 조회순으로 나열된 영화랭킹입니다(1위~10위)\")\n",
        "    for title in titles:\n",
        "      print(str(rank)+\" 위: \"+title.find('a').text)\n",
        "      rank+=1\n",
        "      if rank==11:\n",
        "        break\n",
        "  elif menu==2:\n",
        "    query=\"?query=\"+urllib.parse.quote(input(\"검색할 영화를 입력하세요:\"))\n",
        "    url_query=url+query\n",
        "    request = urllib.request.Request(url_query)\n",
        "    request.add_header(\"X-Naver-Client-Id\",client_id)\n",
        "    request.add_header(\"X-Naver-Client-Secret\",client_secret)\n",
        "    response = urllib.request.urlopen(request)\n",
        "    rescode = response.getcode()\n",
        "    if(rescode==200):\n",
        "      response_body = response.read()\n",
        "      retdata= response_body.decode('utf-8')\n",
        "      jsonresult=json.loads(retdata)\n",
        "      for i in jsonresult['items']:\n",
        "        print(\"\")\n",
        "        print(\"제목: \"+i['title']+\" (\"+i['subtitle']+\")\")\n",
        "        print(\"평점: \"+i['userRating'])\n",
        "        print(\"감독: \"+i['director'])\n",
        "        print(\"출연배우: \"+i['actor'])\n",
        "        print(\"개봉연도: \"+i['pubDate'])\n",
        "        print(\"\")\n",
        "      print(\"\")\n",
        "    else:\n",
        "      print(\"Error Code:\" + rescode)\n",
        "  else:\n",
        "    print(\"프로그램을 종료합니다\")\n",
        "    break"
      ],
      "execution_count": 0,
      "outputs": [
        {
          "output_type": "stream",
          "text": [
            "[김윤수의 영화프로그램]\n",
            " 1. 영화  순위 확인하기\n",
            " 2. 영화 정보 검색하기\n",
            " 3. 프로그램 종료\n",
            "메뉴를 선택하세요: 3\n",
            "프로그램을 종료합니다\n"
          ],
          "name": "stdout"
        }
      ]
    }
  ]
}